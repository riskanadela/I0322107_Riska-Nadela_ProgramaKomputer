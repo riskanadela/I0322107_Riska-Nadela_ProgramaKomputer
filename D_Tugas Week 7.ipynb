{
 "cells": [
  {
   "cell_type": "code",
   "execution_count": 5,
   "metadata": {},
   "outputs": [
    {
     "name": "stdout",
     "output_type": "stream",
     "text": [
      "Matriks yang diinput [[1, 2], [3, 4]]\n"
     ]
    }
   ],
   "source": [
    "#Buatlah sebuah fungsi untuk membuat matrix berdasarkan input dari user\n",
    "\n",
    "def create_matrix(baris,kolom):\n",
    "    matrix = []\n",
    "    for i in range(baris):\n",
    "        row = []\n",
    "        for j in range(kolom):\n",
    "            element = int(input(f\"Masukkan elemen matriks [{i+1}][{j+1}]: \"))\n",
    "            row.append(element)\n",
    "        matrix.append(row)\n",
    "\n",
    "    return matrix\n",
    "\n",
    "baris = int(input('Masukkan Jumlah Baris:\\t'))\n",
    "kolom = int(input('Masukkan Jumlah Kolom:\\t'))\n",
    "\n",
    "matriks = create_matrix(baris, kolom)\n",
    "print(\"Matriks yang diinput : \", matriks)\n"
   ]
  },
  {
   "cell_type": "code",
   "execution_count": 9,
   "metadata": {},
   "outputs": [
    {
     "data": {
      "text/plain": [
       "array([[-2. ,  1. ],\n",
       "       [ 1.5, -0.5]])"
      ]
     },
     "execution_count": 9,
     "metadata": {},
     "output_type": "execute_result"
    }
   ],
   "source": [
    "#Buatlah sebuah fungsi untuk mencari invers matrix berdasarkan input matrix dari user\n",
    "\n",
    "import numpy as np\n",
    "\n",
    "def invers():\n",
    "    baris = int(input('Masukkan Jumlah Baris: '))\n",
    "    kolom = int(input('Masukkan Jumlah Kolom: '))\n",
    "\n",
    "    matrix = create_matrix(baris, kolom) # Fungsi create_matrix yang telah kita buat sebelumnya\n",
    "\n",
    "    try:\n",
    "        det = np.linalg.det(matrix)\n",
    "        inv_matrix = np.linalg.inv(matrix)\n",
    "        return inv_matrix\n",
    "    except np.linalg.LinAlgError:\n",
    "        print(\"Matriks tidak memiliki invers.\")\n",
    "\n",
    "invers()\n"
   ]
  },
  {
   "cell_type": "code",
   "execution_count": 4,
   "metadata": {},
   "outputs": [
    {
     "name": "stdout",
     "output_type": "stream",
     "text": [
      "Matriks yang diinput : [[1, 2], [3, 4]]\n",
      "\n",
      "Hasil Bagi Matriks dengan 2 adalah :  [[0.5, 1.0], [1.5, 2.0]]\n"
     ]
    }
   ],
   "source": [
    "#Buatlah Fungsi untuk melakukan pembagian matrix antar matrix berdasarkan input user menggunakan nested loop\n",
    "\n",
    "def bagi_matrix(matrix1, skalar):\n",
    "    hasil = []\n",
    "\n",
    "    #Tulis kode kamu disini\n",
    "    for i in range(len(matrix1)):\n",
    "        row = []\n",
    "        for j in range(len(matrix1[0])):\n",
    "            element = matrix1[i][j] / skalar\n",
    "            row.append(element)\n",
    "        hasil.append(row)\n",
    "\n",
    "    return hasil\n",
    "\n",
    "def create_matrix(baris,kolom):\n",
    "    matrix = []\n",
    "    for i in range(baris):\n",
    "        row = []\n",
    "        for j in range(kolom):\n",
    "            element = int(input(f\"Masukkan elemen matriks [{i+1}][{j+1}]: \"))\n",
    "            row.append(element)\n",
    "        matrix.append(row)\n",
    "\n",
    "    return matrix\n",
    "\n",
    "baris = int(input('Masukkan Jumlah Baris:\\t'))\n",
    "kolom = int(input('Masukkan Jumlah Kolom:\\t'))\n",
    "\n",
    "matriks = create_matrix(baris, kolom)\n",
    "print('Matriks yang diinput :', matriks)\n",
    "\n",
    "skalar = int(input('Matrix dibagi berapa? '))\n",
    "\n",
    "hasil_pembagian = bagi_matrix(matriks, skalar)\n",
    "print(\"\\nHasil Bagi Matriks dengan\", skalar, \"adalah : \" , hasil_pembagian)"
   ]
  }
 ],
 "metadata": {
  "kernelspec": {
   "display_name": "Python 3",
   "language": "python",
   "name": "python3"
  },
  "language_info": {
   "codemirror_mode": {
    "name": "ipython",
    "version": 3
   },
   "file_extension": ".py",
   "mimetype": "text/x-python",
   "name": "python",
   "nbconvert_exporter": "python",
   "pygments_lexer": "ipython3",
   "version": "3.11.2"
  },
  "orig_nbformat": 4
 },
 "nbformat": 4,
 "nbformat_minor": 2
}
