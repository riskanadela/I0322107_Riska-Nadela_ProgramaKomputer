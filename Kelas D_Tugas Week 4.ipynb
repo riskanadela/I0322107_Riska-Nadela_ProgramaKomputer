{
 "cells": [
  {
   "cell_type": "code",
   "execution_count": 7,
   "metadata": {},
   "outputs": [
    {
     "name": "stdout",
     "output_type": "stream",
     "text": [
      "Riska Nadela\n",
      "I0322107\n",
      "D\n"
     ]
    }
   ],
   "source": [
    "print(input(\"Nama: \"))\n",
    "print(input(\"NIM: \"))\n",
    "print(input(\"Kelas: \"))"
   ]
  },
  {
   "attachments": {},
   "cell_type": "markdown",
   "metadata": {},
   "source": [
    "## 1."
   ]
  },
  {
   "attachments": {},
   "cell_type": "markdown",
   "metadata": {},
   "source": [
    "Buatlah program yang menampilkan salam “Selamat Pagi” dari berbagai negara {Inggris, Perancis, Italia, Spanyol, Jepang, Korea} dengan dua input dari user yaitu bahasa dan diikuti nama user.<br>\n",
    "<br>Ex : \n",
    "<br>\"Ohayou, Onii Chan\"\n",
    "> *note: Kerjakan soal ini dengan percabangan*"
   ]
  },
  {
   "cell_type": "code",
   "execution_count": 14,
   "metadata": {},
   "outputs": [
    {
     "name": "stdout",
     "output_type": "stream",
     "text": [
      "좋은 아침입니다 (joheun achimimnida),dela\n"
     ]
    }
   ],
   "source": [
    "# Kerjakan soal nomor 1 disini\n",
    "Inggris = 'Good Morning'\n",
    "Perancis = 'Bonjour'\n",
    "Italia = 'Buongiorno'\n",
    "Spanyol = 'Buenos días'\n",
    "Jepang = 'おはようございます (ohayou gozaimasu)'\n",
    "Korea = '좋은 아침입니다 (joheun achimimnida)'\n",
    "\n",
    "Bahasa = str(input(\"Anda ingin diucapkan salam dengan bahasa apa pagi ini? Tersedia bahasa Inggris, Perancis, Italia, Spanyol, Jepang dan Korea. Bisa dipilih salah satunya.\"))\n",
    "Nama = str(input(\"Siapa nama anda?\"))\n",
    "\n",
    "if (Bahasa.capitalize()=='Inggris'):\n",
    "    print(f'{Inggris}, {Nama}')\n",
    "\n",
    "elif (Bahasa.capitalize()=='Perancis'):\n",
    "    print(f'{Perancis},{Nama}')\n",
    "\n",
    "elif (Bahasa.capitalize()=='Italia'):\n",
    "    print(f'{Italia},{Nama}')\n",
    "\n",
    "elif (Bahasa.capitalize()=='Spanyol'):\n",
    "    print(f'{Spanyol},{Nama}')\n",
    "\n",
    "elif (Bahasa.capitalize()=='Jepang'):\n",
    "    print(f'{Jepang},{Nama}')\n",
    "    \n",
    "elif (Bahasa.capitalize()=='Korea'):\n",
    "    print(f'{Korea},{Nama}')\n",
    "\n",
    "else :\n",
    "    print(\"Maaf Bahasa Tidak Tersedia\")"
   ]
  },
  {
   "attachments": {},
   "cell_type": "markdown",
   "metadata": {},
   "source": [
    "## 2."
   ]
  },
  {
   "attachments": {},
   "cell_type": "markdown",
   "metadata": {},
   "source": [
    "Buatlah program perhitungan umur dengan menggunakan input user yaitu tahun lahir dari user.<br>\n",
    "<br>Output yang dihasilkan adalah sebagai berikut:\n",
    "<br>\"Apakah anda berasal dari masa depan?\"\n",
    "<br>\"Anda barusaja lahir\"\n",
    "<br>\"Umur Anda adalah xx tahun\"\n",
    "> *note: Kerjakan soal ini dengan percabangan*"
   ]
  },
  {
   "cell_type": "code",
   "execution_count": 13,
   "metadata": {},
   "outputs": [
    {
     "name": "stdout",
     "output_type": "stream",
     "text": [
      "Apakah anda berasal dari masa depan?\n"
     ]
    }
   ],
   "source": [
    "# Kerjakan soal nomor 2 disini\n",
    "tahun = int(input(\"Tahun Berapa Anda Lahir?\"))\n",
    "\n",
    "if (tahun > 2023):\n",
    "    print(\"Apakah anda berasal dari masa depan?\")\n",
    "elif (tahun == 2023):\n",
    "    print(\"Anda baru saja lahir\")\n",
    "else :\n",
    "    print(f\"Umur Anda adalah {2023 - tahun} tahun\")"
   ]
  }
 ],
 "metadata": {
  "kernelspec": {
   "display_name": "Python 3",
   "language": "python",
   "name": "python3"
  },
  "language_info": {
   "codemirror_mode": {
    "name": "ipython",
    "version": 3
   },
   "file_extension": ".py",
   "mimetype": "text/x-python",
   "name": "python",
   "nbconvert_exporter": "python",
   "pygments_lexer": "ipython3",
   "version": "3.11.2"
  },
  "orig_nbformat": 4
 },
 "nbformat": 4,
 "nbformat_minor": 2
}
