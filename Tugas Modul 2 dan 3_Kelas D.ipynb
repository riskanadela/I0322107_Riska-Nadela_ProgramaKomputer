{
 "cells": [
  {
   "cell_type": "code",
   "execution_count": 1,
   "metadata": {},
   "outputs": [
    {
     "name": "stdout",
     "output_type": "stream",
     "text": [
      "Riska Nadela\n",
      "I0322107\n",
      "D\n"
     ]
    }
   ],
   "source": [
    "print(input(\"Nama: \"))\n",
    "print(input(\"NIM: \"))\n",
    "print(input(\"Kelas: \"))"
   ]
  },
  {
   "attachments": {},
   "cell_type": "markdown",
   "metadata": {},
   "source": [
    "## 1."
   ]
  },
  {
   "attachments": {},
   "cell_type": "markdown",
   "metadata": {},
   "source": [
    "diketahui dimensi sebuah aquarium tanpa penutup atas sebagai berikut:\n",
    "\n",
    "```python\n",
    "p = 11\n",
    "l = 1.99\n",
    "t = 25.87\n",
    "```\n",
    "buatkan program sederhana untuk menghitung diagonal tiap sisi dan luas permukaan aquarium tersebut tanpa menggunakan module math."
   ]
  },
  {
   "cell_type": "code",
   "execution_count": 1,
   "metadata": {},
   "outputs": [
    {
     "name": "stdout",
     "output_type": "stream",
     "text": [
      "\n",
      "Diagonal sisi depan            = 28.11150831954771\n",
      "\n",
      "Diagonal sisi belakang         = 28.11150831954771\n",
      "\n",
      "Diagonal sisi bawah            = 11.17855536283647\n",
      "\n",
      "Diagonal sisi samping kiri     = 25.946425572706545\n",
      "\n",
      "Diagonal sisi samping kanan    = 25.946425572706545\n",
      "\n",
      "Luas Permukaan                 = 693.9926\n"
     ]
    }
   ],
   "source": [
    "# Menginput nilai panjang, lebar dan tinggi balok (aquarium)\n",
    "p = 11\n",
    "l = 1.99\n",
    "t = 25.87\n",
    "\n",
    "# Menghitung diagonal sisi depan, belakang :\n",
    "Diagonal_sisi_depan_belakang = (p**2 + t**2)**(0.5)\n",
    "\n",
    "# Menghitung diagonal sisi samping :\n",
    "Diagonal_sisi_samping = (l**2 + t**2)**0.5\n",
    "\n",
    "# Menghitung diagonal sisi bawah :\n",
    "Diagonal_sisi_bawah = (p**2 + l**2)**0.5\n",
    "\n",
    "\n",
    "# Mem-print hasil diagonal sisi pada sisi \n",
    "print(\"\\nDiagonal sisi depan            =\", Diagonal_sisi_depan_belakang)\n",
    "print(\"\\nDiagonal sisi belakang         =\", Diagonal_sisi_depan_belakang)\n",
    "print(\"\\nDiagonal sisi bawah            =\", Diagonal_sisi_bawah) \n",
    "print(\"\\nDiagonal sisi samping kiri     =\", Diagonal_sisi_samping)\n",
    "print(\"\\nDiagonal sisi samping kanan    =\", Diagonal_sisi_samping)\n",
    "\n",
    "# Menghitung luas permukaan aquarium dengan rumus persegi panjang \n",
    "Luas_permukaan = 2*(p*l + l*t + p*t) - (p*l)\n",
    "\n",
    "# Mem-print hasil penghitungan luas permukaan\n",
    "print(\"\\nLuas Permukaan                 =\", Luas_permukaan)\n"
   ]
  },
  {
   "attachments": {},
   "cell_type": "markdown",
   "metadata": {},
   "source": [
    "## 2."
   ]
  },
  {
   "attachments": {},
   "cell_type": "markdown",
   "metadata": {},
   "source": [
    "diberikan data nilai mahasiswa sebagai berikut:"
   ]
  },
  {
   "cell_type": "code",
   "execution_count": 1,
   "metadata": {},
   "outputs": [],
   "source": [
    "nilai = {\n",
    "    'Frank': 80,\n",
    "    'Abagnale': 75,\n",
    "    'Cobb': 90,\n",
    "    'Andy Dufresne': 85,\n",
    "    'Ariadne': 70\n",
    "}"
   ]
  },
  {
   "cell_type": "code",
   "execution_count": 1,
   "metadata": {},
   "outputs": [
    {
     "name": "stdout",
     "output_type": "stream",
     "text": [
      "PROGRAM MENGHITUNG NILAI RATA-RATA MAHASISWA\n",
      "Nilai rata-rata semua Mahasiswa =  80.0\n",
      "\n",
      "PROGRAM MENCARI NILAI TERTINGGI\n",
      "Nilai Tertinggi =  Frank\n",
      "\n",
      "PROGRAM MENCARI NILAI TERENDAH\n",
      "Nilai Terendah  =  Abagnale\n"
     ]
    }
   ],
   "source": [
    "print(\"PROGRAM MENGHITUNG NILAI RATA-RATA MAHASISWA\")\n",
    "# Data\n",
    "Frank = 80\n",
    "Abagnale = 75\n",
    "Cobb = 90\n",
    "Andy_Dufresne = 85\n",
    "Ariadne = 70\n",
    "\n",
    "# Menghitung nilai rata-rata semua mahasiswa\n",
    "Nilai_rata_rata = (Frank + Abagnale + Cobb + Andy_Dufresne + Ariadne) / 5 \n",
    "# Mem-print nilai rata-rata \n",
    "print(\"Nilai rata-rata semua Mahasiswa = \", Nilai_rata_rata)\n",
    "\n",
    "print(\"\\nPROGRAM MENCARI NILAI TERTINGGI\")\n",
    "nilai = {\n",
    "    'Frank': 80,\n",
    "    'Abagnale': 75,\n",
    "    'Cobb': 90,\n",
    "    'Andy Dufresne': 85,\n",
    "    'Ariadne': 70\n",
    "}\n",
    "print(\"Nilai Tertinggi = \", max(nilai))\n",
    "print(\"\\nPROGRAM MENCARI NILAI TERENDAH\")\n",
    "print(\"Nilai Terendah  = \", min(nilai))"
   ]
  },
  {
   "attachments": {},
   "cell_type": "markdown",
   "metadata": {},
   "source": [
    "buatlah program sederhana untuk menghitung nilai rata-rata semua mahasiswa dan mencari siapa yang mendapatkan nilai tertinggi dan nilai terendah. \n",
    "> *note: tidak perlu menggunakan loops untuk membuat program nya*"
   ]
  },
  {
   "attachments": {},
   "cell_type": "markdown",
   "metadata": {},
   "source": [
    "## 3. "
   ]
  },
  {
   "attachments": {},
   "cell_type": "markdown",
   "metadata": {},
   "source": [
    "diberikan list aslab sebagai berikut:\n",
    "```python\n",
    "list_aslab = [\n",
    "    {\"nama\": \"Berlian Safri Prakoso\", \"nim\": \"I0320017\", \"kontak\": \"0858XXXXXXXX\"},\n",
    "    {\"nama\": \"Halidya Siti Hanifah\", \"nim\": \"I0320044\", \"kontak\": \"0878XXXXXXXX\"},\n",
    "    {\"nama\": \"Nurki Putra Mahardika\", \"nim\": \"I0320076\", \"kontak\": \"0877XXXXXXXX\"},\n",
    "    {\"nama\": \"Aji Manarul Aziz\", \"nim\": \"I0320119\", \"kontak\": \"0812XXXXXXXX\"},\n",
    "    {\"nama\": \"Alica Ayu Fitriani\", \"nim\": \"I0320121\", \"kontak\": \"0896XXXXXXXX\"},\n",
    "    {\"nama\": \"Dendy Halim Kusuma\", \"nim\": \"I0320125\", \"kontak\": \"0822XXXXXXXX\"}\n",
    "]\n",
    "```\n",
    "* **A** Tuliskan kode untuk mengakses informasi tentang \"nama\" dari semua aslab mulai dari index 1 sampai 5\n",
    "* **B** Tambahkan informasi berikut pada data aslab:\n",
    "```python\n",
    "    surel = [\"berlian@student.uns.ac.id\",\n",
    "          \"halidya@student.uns.ac.id\",\n",
    "          \"nurki@student.uns.ac.id\",\n",
    "          \"manarul@student.uns.ac.id\",\n",
    "          \"alica@student.uns.ac.id\",\n",
    "          \"dendy@student.uns.ac.id\"]\n",
    "```\n",
    "> *note: kalian hanya boleh menggunakan key-value pair yang disebutkan di dalam teks, tanpa menggunakan informasi tambahan yang diambil pada list yang ada*"
   ]
  },
  {
   "cell_type": "code",
   "execution_count": 17,
   "metadata": {},
   "outputs": [
    {
     "name": "stdout",
     "output_type": "stream",
     "text": [
      "A. Nama Aslab \n",
      "Berlian Safri Prakoso\n",
      "Halidya Siti Hanifah\n",
      "Nurki Putra Mahardika\n",
      "Aji Manarul Aziz\n",
      "Alica Ayu Fitriani\n",
      "Dendy Halim Kusuma\n",
      "\n",
      "B. List Baru\n",
      "{'nama': 'Berlian Safri Prakoso', 'nim': 'I0320017', 'kontak': '0858XXXXXXXX', 'surel': 'berlian@student.uns.ac.id'}\n",
      "{'nama': 'Halidya Siti Hanifah', 'nim': 'I0320044', 'kontak': '0878XXXXXXXX', 'surel': 'halidya@student.uns.ac.id'}\n",
      "{'nama': 'Nurki Putra Mahardika', 'nim': 'I0320076', 'kontak': '0877XXXXXXXX', 'surel': 'nurki@student.uns.ac.id'}\n",
      "{'nama': 'Aji Manarul Aziz', 'nim': 'I0320119', 'kontak': '0812XXXXXXXX', 'surel': 'manarul@student.uns.ac.id'}\n",
      "{'nama': 'Alica Ayu Fitriani', 'nim': 'I0320121', 'kontak': '0896XXXXXXXX', 'surel': 'alica@student.uns.ac.id'}\n",
      "{'nama': 'Dendy Halim Kusuma', 'nim': 'I0320125', 'kontak': '0822XXXXXXXX', 'surel': 'dendy@student.uns.ac.id'}\n"
     ]
    }
   ],
   "source": [
    "list_aslab = {\n",
    "    \"Anggota 1\" : {\n",
    "    \"nama\"  : \"Berlian Safri Prakoso\", \n",
    "    \"nim\"   : \"I0320017\", \n",
    "    'kontak': \"0858XXXXXXXX\"\n",
    "    },\n",
    "    \"Anggota 2\" : {\n",
    "    \"nama\"  : \"Halidya Siti Hanifah\", \n",
    "    \"nim\"   : \"I0320044\", \n",
    "    \"kontak\": \"0878XXXXXXXX\"\n",
    "    },\n",
    "    \"Anggota 3\" : {\n",
    "    \"nama\"  : \"Nurki Putra Mahardika\", \n",
    "    \"nim\": \"I0320076\", \n",
    "    \"kontak\": \"0877XXXXXXXX\"\n",
    "    },\n",
    "    \"Anggota 4\" : {\n",
    "    \"nama\": \"Aji Manarul Aziz\", \n",
    "    \"nim\": \"I0320119\", \n",
    "    \"kontak\": \"0812XXXXXXXX\"\n",
    "    },\n",
    "    \"Anggota 5\" : {\n",
    "    \"nama\": \"Alica Ayu Fitriani\", \n",
    "    \"nim\": \"I0320121\", \n",
    "    \"kontak\": \"0896XXXXXXXX\"\n",
    "    },\n",
    "    \"Anggota 6\" : {\n",
    "    \"nama\": \"Dendy Halim Kusuma\", \n",
    "    \"nim\": \"I0320125\", \n",
    "    \"kontak\": \"0822XXXXXXXX\"\n",
    "    }\n",
    "}\n",
    "print(\"A. Nama Aslab \")\n",
    "print(list_aslab[\"Anggota 1\"][\"nama\"])\n",
    "print(list_aslab[\"Anggota 2\"][\"nama\"])\n",
    "print(list_aslab[\"Anggota 3\"][\"nama\"])\n",
    "print(list_aslab[\"Anggota 4\"][\"nama\"])\n",
    "print(list_aslab[\"Anggota 5\"][\"nama\"])\n",
    "print(list_aslab[\"Anggota 6\"][\"nama\"])\n",
    "\n",
    "\n",
    "\n",
    "list_aslab1 = {\n",
    "    \"nama\"  : \"Berlian Safri Prakoso\",   \n",
    "    \"nim\"   : \"I0320017\",    \n",
    "    \"kontak\": \"0858XXXXXXXX\",   \n",
    "    }\n",
    "list_aslab2 = { \n",
    "    \"nama\"  : \"Halidya Siti Hanifah\", \n",
    "    \"nim\"   : \"I0320044\", \n",
    "    \"kontak\": \"0878XXXXXXXX\",\n",
    "    }\n",
    "list_aslab3 = {\n",
    "    \"nama\"  : \"Nurki Putra Mahardika\", \n",
    "    \"nim\"   : \"I0320076\", \n",
    "    \"kontak\": \"0877XXXXXXXX\",\n",
    "    }\n",
    "list_aslab4 = {\n",
    "    \"nama\"  : \"Aji Manarul Aziz\", \n",
    "    \"nim\"   : \"I0320119\", \n",
    "    \"kontak\": \"0812XXXXXXXX\",\n",
    "    }\n",
    "list_aslab5 = {\n",
    "    \"nama\"  : \"Alica Ayu Fitriani\", \n",
    "    \"nim\"   : \"I0320121\", \n",
    "    \"kontak\": \"0896XXXXXXXX\",\n",
    "    }\n",
    "list_aslab6 = {\n",
    "    \"nama\"  : \"Dendy Halim Kusuma\", \n",
    "    \"nim\"   : \"I0320125\", \n",
    "    \"kontak\": \"0822XXXXXXXX\",\n",
    "    }\n",
    "\n",
    "print(\"\\nB. List Baru\")\n",
    "list_aslab1.update({\"surel\":\"berlian@student.uns.ac.id\"})\n",
    "print(list_aslab1)\n",
    "list_aslab2.update({\"surel\":\"halidya@student.uns.ac.id\"})\n",
    "print(list_aslab2)\n",
    "list_aslab3.update({\"surel\":\"nurki@student.uns.ac.id\"})\n",
    "print(list_aslab3)\n",
    "list_aslab4.update({\"surel\":\"manarul@student.uns.ac.id\"})\n",
    "print(list_aslab4)\n",
    "list_aslab5.update({\"surel\":\"alica@student.uns.ac.id\"})\n",
    "print(list_aslab5)\n",
    "list_aslab6.update({\"surel\":\"dendy@student.uns.ac.id\"})\n",
    "print(list_aslab6)\n"
   ]
  }
 ],
 "metadata": {
  "kernelspec": {
   "display_name": "Python 3",
   "language": "python",
   "name": "python3"
  },
  "language_info": {
   "codemirror_mode": {
    "name": "ipython",
    "version": 3
   },
   "file_extension": ".py",
   "mimetype": "text/x-python",
   "name": "python",
   "nbconvert_exporter": "python",
   "pygments_lexer": "ipython3",
   "version": "3.11.2"
  },
  "orig_nbformat": 4,
  "vscode": {
   "interpreter": {
    "hash": "5addf786bcd861d1ce5006f23111f8cbb206731e5b61b0a5632ba9e0252558a8"
   }
  }
 },
 "nbformat": 4,
 "nbformat_minor": 2
}
